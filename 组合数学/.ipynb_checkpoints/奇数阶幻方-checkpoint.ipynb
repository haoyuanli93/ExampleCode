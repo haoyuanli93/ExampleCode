{
 "cells": [
  {
   "cell_type": "markdown",
   "metadata": {},
   "source": [
    "# 这个notebook试图实现产生奇数阶幻方的代码"
   ]
  },
  {
   "cell_type": "code",
   "execution_count": 1,
   "metadata": {},
   "outputs": [],
   "source": [
    "import numpy as np"
   ]
  },
  {
   "cell_type": "code",
   "execution_count": 27,
   "metadata": {},
   "outputs": [],
   "source": [
    "def fun(n):\n",
    "    \"\"\"\n",
    "    Try to generate a 幻方 of n orders\n",
    "    \"\"\"\n",
    "    if n % 2 == 0 :\n",
    "        print(\"n has to be an odd number. Please check the n value\")\n",
    "        return None\n",
    "    \n",
    "    holder = np.zeros((n,n), dtype=np.int64)\n",
    "    tot = n ** 2\n",
    "    \n",
    "    # The location of the current\n",
    "    coor = [0, (n-1)//2]\n",
    "    val = 1\n",
    "    \n",
    "    while True:\n",
    "        \n",
    "        # Update the holder\n",
    "        holder[coor[0], coor[1]] = val\n",
    "        \n",
    "        # If we have finished all update, then return\n",
    "        if val >= tot:\n",
    "            return holder\n",
    "        \n",
    "        # Update the indicator of the step number\n",
    "        val += 1\n",
    "        \n",
    "        # Find the next location to fill the number\n",
    "        \n",
    "        # initial guess\n",
    "        tmp = [(coor[0] - 1) % n, (coor[1] + 1) % n]\n",
    "        \n",
    "        if holder[tmp[0], tmp[1]] != 0:\n",
    "            coor = [(coor[0] + 1) % n, coor[1] % n]\n",
    "        else:\n",
    "            coor[:] = tmp[:]\n",
    "            "
   ]
  },
  {
   "cell_type": "code",
   "execution_count": 32,
   "metadata": {},
   "outputs": [
    {
     "name": "stdout",
     "output_type": "stream",
     "text": [
      "[[17 24  1  8 15]\n",
      " [23  5  7 14 16]\n",
      " [ 4  6 13 20 22]\n",
      " [10 12 19 21  3]\n",
      " [11 18 25  2  9]]\n",
      "[65 65 65 65 65]\n",
      "[65 65 65 65 65]\n",
      "65\n",
      "65\n"
     ]
    }
   ],
   "source": [
    "res = fun(n=5)\n",
    "print(res)\n",
    "print(np.sum(res, axis=0))\n",
    "print(np.sum(res, axis=1))\n",
    "print(np.trace(res))\n",
    "print(np.trace(res[::-1]))"
   ]
  },
  {
   "cell_type": "code",
   "execution_count": 33,
   "metadata": {},
   "outputs": [
    {
     "name": "stdout",
     "output_type": "stream",
     "text": [
      "[[30 39 48  1 10 19 28]\n",
      " [38 47  7  9 18 27 29]\n",
      " [46  6  8 17 26 35 37]\n",
      " [ 5 14 16 25 34 36 45]\n",
      " [13 15 24 33 42 44  4]\n",
      " [21 23 32 41 43  3 12]\n",
      " [22 31 40 49  2 11 20]]\n",
      "[175 175 175 175 175 175 175]\n",
      "[175 175 175 175 175 175 175]\n",
      "175\n",
      "175\n"
     ]
    }
   ],
   "source": [
    "res = fun(n=7)\n",
    "print(res)\n",
    "print(np.sum(res, axis=0))\n",
    "print(np.sum(res, axis=1))\n",
    "print(np.trace(res))\n",
    "print(np.trace(res[::-1]))"
   ]
  },
  {
   "cell_type": "code",
   "execution_count": 34,
   "metadata": {},
   "outputs": [
    {
     "name": "stdout",
     "output_type": "stream",
     "text": [
      "[[47 58 69 80  1 12 23 34 45]\n",
      " [57 68 79  9 11 22 33 44 46]\n",
      " [67 78  8 10 21 32 43 54 56]\n",
      " [77  7 18 20 31 42 53 55 66]\n",
      " [ 6 17 19 30 41 52 63 65 76]\n",
      " [16 27 29 40 51 62 64 75  5]\n",
      " [26 28 39 50 61 72 74  4 15]\n",
      " [36 38 49 60 71 73  3 14 25]\n",
      " [37 48 59 70 81  2 13 24 35]]\n",
      "[369 369 369 369 369 369 369 369 369]\n",
      "[369 369 369 369 369 369 369 369 369]\n",
      "369\n",
      "369\n"
     ]
    }
   ],
   "source": [
    "res = fun(n=9)\n",
    "print(res)\n",
    "print(np.sum(res, axis=0))\n",
    "print(np.sum(res, axis=1))\n",
    "print(np.trace(res))\n",
    "print(np.trace(res[::-1]))"
   ]
  },
  {
   "cell_type": "code",
   "execution_count": null,
   "metadata": {},
   "outputs": [],
   "source": []
  }
 ],
 "metadata": {
  "kernelspec": {
   "display_name": "Python 3",
   "language": "python",
   "name": "python3"
  },
  "language_info": {
   "codemirror_mode": {
    "name": "ipython",
    "version": 3
   },
   "file_extension": ".py",
   "mimetype": "text/x-python",
   "name": "python",
   "nbconvert_exporter": "python",
   "pygments_lexer": "ipython3",
   "version": "3.6.10"
  }
 },
 "nbformat": 4,
 "nbformat_minor": 4
}
